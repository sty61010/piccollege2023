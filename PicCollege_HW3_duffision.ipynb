{
  "cells": [
    {
      "attachments": {},
      "cell_type": "markdown",
      "metadata": {},
      "source": [
        "### Define the model architecture using a self-attention transformer\n",
        "2. Deep Learning Models: VAE, Diffusion Model, Self-attention, and Transformer"
      ]
    },
    {
      "attachments": {},
      "cell_type": "markdown",
      "metadata": {},
      "source": [
        "### Import libraries\n"
      ]
    },
    {
      "cell_type": "code",
      "execution_count": 24,
      "metadata": {},
      "outputs": [],
      "source": [
        "import numpy as np\n",
        "from PIL import Image\n",
        "import torch\n",
        "from torch import nn\n",
        "from torch.optim import Adam\n",
        "from torch.utils.data import Dataset, DataLoader\n",
        "from torchvision.transforms import ToTensor\n",
        "import torch.nn.functional as F\n",
        "from tqdm import tqdm\n",
        "from torch import Tensor\n",
        "import math\n",
        "import matplotlib.pyplot as plt"
      ]
    },
    {
      "cell_type": "code",
      "execution_count": 25,
      "metadata": {},
      "outputs": [],
      "source": [
        "# # define the diffusion model\n",
        "# class DiffusionModel(nn.Module):\n",
        "#     def __init__(self, n_steps, n_heads, n_dims, n_hidden, output_dim, input_dim):\n",
        "#         super().__init__()\n",
        "\n",
        "#         self.n_steps = n_steps\n",
        "#         self.n_heads = n_heads\n",
        "#         self.n_dims = n_dims\n",
        "#         self.n_hidden = n_hidden\n",
        "#         self.empbed = nn.Linear(input_dim, n_dims)\n",
        "#         self.transformer_layers = nn.ModuleList([\n",
        "#             nn.TransformerEncoderLayer(n_dims, n_heads, n_hidden) \n",
        "#             for _ in range(n_steps)\n",
        "#         ])\n",
        "\n",
        "#         self.to_params = nn.Linear(n_dims, 2 * n_dims)\n",
        "#         self.to_output = nn.Linear(n_dims, output_dim)\n",
        "\n",
        "#     def sample_noise(self, batch_size, device):\n",
        "#         return torch.randn(batch_size, self.n_dims, device=device)\n",
        "\n",
        "#     def forward(self, x, timesteps_left):\n",
        "#         x = self.empbed(x)\n",
        "#         timesteps_left = timesteps_left.transpose(0, 1)\n",
        "#         # apply the diffusion process\n",
        "#         for i in reversed(range(self.n_steps)):\n",
        "#             # sample noise for this step\n",
        "#             noise = self.sample_noise(x.shape[0], x.device)\n",
        "\n",
        "#             # get the parameters for this step\n",
        "#             params = self.to_params(x)\n",
        "#             mean, log_std = params.chunk(2, dim=-1)\n",
        "\n",
        "#             # calculate the new state\n",
        "#             std = torch.exp(log_std)\n",
        "#             state = (x - mean) / std\n",
        "#             state = state + noise * std\n",
        "#             state = self.transformer_layers[i](state.unsqueeze(0)).squeeze(0)\n",
        "\n",
        "#             # update x with the new state\n",
        "#             x = mean + state * std\n",
        "#             # apply the schedule\n",
        "#             x = x * (1 - timesteps_left[i].unsqueeze(-1)) + noise * timesteps_left[i].sqrt().unsqueeze(-1)\n",
        "#         # map the final state to RGB values\n",
        "#         output = self.to_output(x)\n",
        "#         return output"
      ]
    },
    {
      "cell_type": "code",
      "execution_count": 67,
      "metadata": {},
      "outputs": [],
      "source": [
        "# Define the model architecture\n",
        "class DiffusionModel(nn.Module):\n",
        "    def __init__(self, num_channels=32, num_steps=10, input_dim=5, nhead=1, dropout=0.1, num_layers=4):\n",
        "        super(DiffusionModel, self).__init__()\n",
        "        self.num_channels = num_channels\n",
        "        self.num_steps = num_steps\n",
        "        self.net = nn.Sequential(\n",
        "            nn.Linear(5, num_channels),\n",
        "            nn.ReLU(),\n",
        "            nn.Linear(num_channels, num_channels),\n",
        "            nn.ReLU(),\n",
        "            nn.Linear(num_channels, num_channels),\n",
        "            nn.ReLU(),\n",
        "            nn.Linear(num_channels, 5)\n",
        "        )\n",
        "        # self.net = nn.TransformerEncoder(\n",
        "        #     nn.TransformerEncoderLayer(\n",
        "        #         input_dim, \n",
        "        #         nhead=nhead, \n",
        "        #         dim_feedforward=input_dim, \n",
        "        #         dropout=dropout), \n",
        "        #     num_layers=num_layers)\n",
        "    def forward(self, x, t):\n",
        "\n",
        "        for i in range(self.num_steps):\n",
        "            # Apply reverse diffusion step\n",
        "            noise = torch.randn_like(x)\n",
        "            noise = noise * (1 - (t / self.num_steps)).sqrt().unsqueeze(-1)\n",
        "            y = x + noise\n",
        "            x = self.net(y)\n",
        "        return x"
      ]
    },
    {
      "cell_type": "code",
      "execution_count": null,
      "metadata": {},
      "outputs": [],
      "source": []
    },
    {
      "cell_type": "code",
      "execution_count": 68,
      "metadata": {},
      "outputs": [
        {
          "name": "stderr",
          "output_type": "stream",
          "text": [
            "Epoch [100/100], Train Loss: 0.0336: 100%|██████████| 100/100 [03:56<00:00,  2.37s/it]\n",
            "Clipping input data to the valid range for imshow with RGB data ([0..1] for floats or [0..255] for integers).\n"
          ]
        },
        {
          "name": "stdout",
          "output_type": "stream",
          "text": [
            "xy mean: 146.68803609181674, xy std: 2.0169212208210583, xy max: 159.77215576171875, xy min: 136.51287841796875\n",
            "rgb mean: 149.7315474646723, rgb std: 16.845471569813835, rgb max: 187.5168914794922, rgb min: 126.75244903564453\n",
            "Error: 11.332996296296296\n"
          ]
        },
        {
          "data": {
            "text/plain": [
              "<matplotlib.image.AxesImage at 0x7f952053bb50>"
            ]
          },
          "execution_count": 68,
          "metadata": {},
          "output_type": "execute_result"
        },
        {
          "data": {
            "image/png": "[encoded data removed]",
            "text/plain": [
              "<Figure size 432x288 with 1 Axes>"
            ]
          },
          "metadata": {
            "needs_background": "light"
          },
          "output_type": "display_data"
        }
      ],
      "source": [
        "class ColoredPiDataset(Dataset):\n",
        "    def __init__(self, image_path, xs_path, ys_path):\n",
        "        self.xs = np.load(xs_path)\n",
        "        self.ys = np.load(ys_path)\n",
        "        self.image_array = np.array(Image.open(image_path))\n",
        "        self.rgb_values = self.image_array[self.xs, self.ys]\n",
        "        \n",
        "        # # Normalize xy values to be between 0 and 1\n",
        "        self.xs, self.ys = self.xs / 299.0, self.ys / 299.0\n",
        "\n",
        "        # # Normalize rgb values to be between 0 and 1\n",
        "        self.rgb_values = self.rgb_values / 255.0\n",
        "\n",
        "        # Normalize xy values to be between -1 and 1\n",
        "        # self.xs, self.ys = (self.xs / 149.5) - 1.0, (self.ys / 149.5) - 1.0\n",
        "        \n",
        "        # # Normalize rgb values to be between -1 and 1\n",
        "        # self.rgb_values = (self.rgb_values / 127.5) - 1.0\n",
        "\n",
        "    def __len__(self):\n",
        "        return len(self.xs)\n",
        "        # return 30000\n",
        "\n",
        "    def __getitem__(self, idx):\n",
        "        if idx >= 5000:\n",
        "            return torch.zeros((5)).to(torch.float32)\n",
        "        return torch.tensor([self.xs[idx], self.ys[idx], self.rgb_values[idx][0], self.rgb_values[idx][1], self.rgb_values[idx][2]]).to(torch.float32)\n",
        "\n",
        "# Define training function\n",
        "def train_diffusion(model, optimizer, criterion, dataloader, device):\n",
        "    model.train()\n",
        "    running_loss = 0.0\n",
        "    for batch in dataloader:\n",
        "        batch = batch.to(device)\n",
        "        optimizer.zero_grad()\n",
        "        \n",
        "        noise = torch.randn(batch.shape[0], 128).to(device)\n",
        "        \n",
        "        # # generate the timesteps_left schedule\n",
        "        # timesteps_left = torch.linspace(0, 1, model.n_steps, device=device)\n",
        "        # timesteps_left = timesteps_left.expand(batch_size, -1)\n",
        "        # # generate the RGB values using the model\n",
        "        # outputs = model(batch, timesteps_left)\n",
        "        \n",
        "        batch_t = np.random.randint(0, model.num_steps, size=batch_size)\n",
        "        batch_t = np.sort(batch_t)[::-1] # Reverse order\n",
        "        batch_t = torch.FloatTensor(batch_t / model.num_steps).to(device)\n",
        "        outputs = model(batch, batch_t)\n",
        "\n",
        "        loss = criterion(outputs, batch)\n",
        "\n",
        "        loss.backward()\n",
        "        optimizer.step()\n",
        "        running_loss += loss.item() * batch.size(0)\n",
        "    epoch_loss = running_loss / len(dataloader.dataset)\n",
        "    return epoch_loss\n",
        "\n",
        "# Set up device\n",
        "device = torch.device('cuda' if torch.cuda.is_available() else 'cpu')\n",
        "\n",
        "# Define hyperparameters\n",
        "input_dim = 5 # XYRGB values\n",
        "output_dim = 5 # XYRGB values\n",
        "hidden_dim = 128\n",
        "latent_dim = 16\n",
        "num_layers = 2\n",
        "num_heads = 4\n",
        "dropout = 0.1\n",
        "\n",
        "batch_size = 32\n",
        "learning_rate = 3e-4\n",
        "num_epochs = 100\n",
        "num_samples = 500\n",
        "\n",
        "# Load the dataset\n",
        "dataset = ColoredPiDataset('sparse_pi_colored.jpg', 'pi_xs.npy', 'pi_ys.npy')\n",
        "dataloader = DataLoader(dataset, batch_size=batch_size, shuffle=True, drop_last=True)\n",
        "\n",
        "# Initialize model, optimizer, and loss function\n",
        "# model = DiffusionModel(n_steps=100, n_heads=4, n_dims=128, n_hidden=512, output_dim=output_dim, input_dim=input_dim).to(device)\n",
        "model = DiffusionModel().to(device)\n",
        "\n",
        "optimizer = torch.optim.Adam(model.parameters(), lr=learning_rate)\n",
        "criterion = nn.MSELoss()\n",
        "\n",
        "# Train model\n",
        "iteration = tqdm(range(num_epochs))\n",
        "for epoch in iteration:\n",
        "    train_loss = train_diffusion(model, optimizer, criterion, dataloader, device)\n",
        "    iteration.set_description('Epoch [{}/{}], Train Loss: {:.4f}'.format(epoch+1, num_epochs, train_loss))\n",
        "    \n",
        "# Generate some samples from the model\n",
        "generated_image = np.zeros(dataset.image_array.shape)\n",
        "\n",
        "xy  = np.zeros((len(dataloader)*batch_size, 2))\n",
        "rgb = np.zeros((len(dataloader)*batch_size, 3))\n",
        "for sample_idx, batch in enumerate(dataloader):\n",
        "    with torch.no_grad():\n",
        "        samples = model.net(torch.randn(batch_size, 5).to(device))\n",
        "        # samples = model.net(batch.to(device))\n",
        "\n",
        "        # Denomarlizing samples\n",
        "        # samples[:, :2] = (samples[:, :2] + 1) * 149.5\n",
        "        samples[:, :2] = (samples[:, :2]) * 299\n",
        "        \n",
        "        # Denomarlizing samples\n",
        "        # samples[:, 2:] = (samples[:, 2:] + 1) * 127.5\n",
        "        samples[:, 2:] = (samples[:, 2:]) * 255\n",
        "        \n",
        "        xy[sample_idx*batch_size:(sample_idx+1)*batch_size, :] = samples[:, :2].cpu().numpy()\n",
        "        rgb[sample_idx*batch_size:(sample_idx+1)*batch_size, :] = samples[:, 2:].cpu().numpy()\n",
        "\n",
        "        samples = samples.cpu().numpy().astype(np.uint8)\n",
        "        for i in range(batch_size):\n",
        "            x, y, r, g, b = samples[i]\n",
        "            generated_image[x, y] = [r, g, b]\n",
        "            \n",
        "print(f'xy mean: {np.mean(xy)}, xy std: {np.std(xy)}, xy max: {np.max(xy)}, xy min: {np.min(xy)}')\n",
        "print(f'rgb mean: {np.mean(rgb)}, rgb std: {np.std(rgb)}, rgb max: {np.max(rgb)}, rgb min: {np.min(rgb)}')\n",
        "print(f'Error: {np.mean(np.abs(generated_image - dataset.image_array))}')\n",
        "\n",
        "# Save the output image\n",
        "# Image.fromarray(generated_image).save('generated_pi_colored.jpg')\n",
        "plt.imshow(generated_image)"
      ]
    },
    {
      "cell_type": "code",
      "execution_count": 72,
      "metadata": {},
      "outputs": [
        {
          "name": "stderr",
          "output_type": "stream",
          "text": [
            "Clipping input data to the valid range for imshow with RGB data ([0..1] for floats or [0..255] for integers).\n"
          ]
        },
        {
          "name": "stdout",
          "output_type": "stream",
          "text": [
            "xy mean: 146.60585623673904, xy std: 1.985959831085107, xy max: 158.5348663330078, xy min: 136.91275024414062\n",
            "rgb mean: 149.6209144847006, rgb std: 16.84920741350473, rgb max: 186.79725646972656, rgb min: 127.51536560058594\n",
            "Error: 11.391051851851852\n"
          ]
        },
        {
          "data": {
            "text/plain": [
              "<matplotlib.image.AxesImage at 0x7f9520421eb0>"
            ]
          },
          "execution_count": 72,
          "metadata": {},
          "output_type": "execute_result"
        },
        {
          "data": {
            "image/png": "[encoded data removed]",
            "text/plain": [
              "<Figure size 432x288 with 1 Axes>"
            ]
          },
          "metadata": {
            "needs_background": "light"
          },
          "output_type": "display_data"
        }
      ],
      "source": [
        "xy  = np.zeros((len(dataloader)*batch_size, 2))\n",
        "rgb = np.zeros((len(dataloader)*batch_size, 3))\n",
        "for sample_idx, batch in enumerate(dataloader):\n",
        "    with torch.no_grad():\n",
        "        # samples = model.net(torch.randn(batch_size, 5).to(device).unsqueeze(0)).squeeze(0)\n",
        "        samples = model.net(torch.randn(batch_size, 5).to(device))\n",
        "        # samples = model.net(batch.to(device).unsqueeze(0)).squeeze(0)\n",
        "        # samples = model.net(batch.to(device))\n",
        "\n",
        "        # Denomarlizing samples\n",
        "        # samples[:, :2] = (samples[:, :2] + 1) * 149.5\n",
        "        samples[:, :2] = (samples[:, :2]) * 299\n",
        "        \n",
        "        # Denomarlizing samples\n",
        "        # samples[:, 2:] = (samples[:, 2:] + 1) * 127.5\n",
        "        samples[:, 2:] = (samples[:, 2:]) * 255\n",
        "        \n",
        "        xy[sample_idx*batch_size:(sample_idx+1)*batch_size, :] = samples[:, :2].cpu().numpy()\n",
        "        rgb[sample_idx*batch_size:(sample_idx+1)*batch_size, :] = samples[:, 2:].cpu().numpy()\n",
        "\n",
        "        samples = samples.cpu().numpy().astype(np.uint8)\n",
        "        for i in range(batch_size):\n",
        "            x, y, r, g, b = samples[i]\n",
        "            generated_image[x, y] = [r, g, b]\n",
        "            \n",
        "print(f'xy mean: {np.mean(xy)}, xy std: {np.std(xy)}, xy max: {np.max(xy)}, xy min: {np.min(xy)}')\n",
        "print(f'rgb mean: {np.mean(rgb)}, rgb std: {np.std(rgb)}, rgb max: {np.max(rgb)}, rgb min: {np.min(rgb)}')\n",
        "print(f'Error: {np.mean(np.abs(generated_image - dataset.image_array))}')\n",
        "\n",
        "# Save the output image\n",
        "# Image.fromarray(generated_image).save('generated_pi_colored.jpg')\n",
        "plt.imshow(generated_image)"
      ]
    },
    {
      "cell_type": "code",
      "execution_count": null,
      "metadata": {},
      "outputs": [],
      "source": []
    },
    {
      "cell_type": "code",
      "execution_count": null,
      "metadata": {},
      "outputs": [],
      "source": []
    }
  ],
  "metadata": {
    "accelerator": "GPU",
    "colab": {
      "provenance": []
    },
    "gpuClass": "standard",
    "kernelspec": {
      "display_name": "mm_petr",
      "language": "python",
      "name": "python3"
    },
    "language_info": {
      "codemirror_mode": {
        "name": "ipython",
        "version": 3
      },
      "file_extension": ".py",
      "mimetype": "text/x-python",
      "name": "python",
      "nbconvert_exporter": "python",
      "pygments_lexer": "ipython3",
      "version": "3.8.13"
    }
  },
  "nbformat": 4,
  "nbformat_minor": 0
}
